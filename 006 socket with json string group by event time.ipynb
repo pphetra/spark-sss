{
 "cells": [
  {
   "cell_type": "code",
   "execution_count": 1,
   "metadata": {},
   "outputs": [
    {
     "data": {
      "text/plain": [
       "source = [value: string]\n"
      ]
     },
     "metadata": {},
     "output_type": "display_data"
    },
    {
     "data": {
      "text/plain": [
       "[value: string]"
      ]
     },
     "execution_count": 1,
     "metadata": {},
     "output_type": "execute_result"
    }
   ],
   "source": [
    "val source = spark.readStream\n",
    "    .format(\"socket\")\n",
    "    .option(\"host\", \"127.0.0.1\")\n",
    "    .option(\"port\", 9876)\n",
    "    .load()"
   ]
  },
  {
   "cell_type": "code",
   "execution_count": 2,
   "metadata": {},
   "outputs": [
    {
     "data": {
      "text/plain": [
       "jsonSchema = StructType(StructField(date,TimestampType,true), StructField(gender,StringType,true), StructField(icd10,StringType,true), StructField(patient_type,StringType,true), StructField(subdistrict,StringType,true))\n"
      ]
     },
     "metadata": {},
     "output_type": "display_data"
    },
    {
     "data": {
      "text/plain": [
       "StructType(StructField(date,TimestampType,true), StructField(gender,StringType,true), StructField(icd10,StringType,true), StructField(patient_type,StringType,true), StructField(subdistrict,StringType,true))"
      ]
     },
     "execution_count": 2,
     "metadata": {},
     "output_type": "execute_result"
    }
   ],
   "source": [
    "// read more at this url\n",
    "// https://docs.databricks.com/spark/latest/dataframes-datasets/complex-nested-data.html#complex-nested-data-notebook\n",
    "\n",
    "import org.apache.spark.sql.types._                         // include the Spark Types to define our schema\n",
    "import org.apache.spark.sql.functions._                     // include the Spark helper functions\n",
    "\n",
    "val jsonSchema = new StructType()\n",
    "        .add(\"date\", TimestampType)\n",
    "        .add(\"gender\", StringType)\n",
    "        .add(\"icd10\",StringType)\n",
    "        .add(\"patient_type\", StringType)\n",
    "        .add(\"subdistrict\", StringType)"
   ]
  },
  {
   "cell_type": "code",
   "execution_count": 3,
   "metadata": {},
   "outputs": [
    {
     "data": {
      "text/plain": [
       "visits = [date: timestamp, gender: string ... 3 more fields]\n"
      ]
     },
     "metadata": {},
     "output_type": "display_data"
    },
    {
     "data": {
      "text/plain": [
       "[date: timestamp, gender: string ... 3 more fields]"
      ]
     },
     "execution_count": 3,
     "metadata": {},
     "output_type": "execute_result"
    }
   ],
   "source": [
    "val visits = source.select(from_json($\"value\", jsonSchema) as \"data\")\n",
    "    .select($\"data.*\")"
   ]
  },
  {
   "cell_type": "code",
   "execution_count": 33,
   "metadata": {},
   "outputs": [
    {
     "data": {
      "text/plain": [
       "ili = UserDefinedFunction(<function1>,IntegerType,Some(List(StringType)))\n",
       "cases = [date: timestamp, subdistrict: string ... 6 more fields]\n",
       "summary = [date: struct<start: timestamp, end: timestamp>, subdistrict: string ... 6 more fields]\n"
      ]
     },
     "metadata": {},
     "output_type": "display_data"
    },
    {
     "data": {
      "text/plain": [
       "[date: struct<start: timestamp, end: timestamp>, subdistrict: string ... 6 more fields]"
      ]
     },
     "execution_count": 33,
     "metadata": {},
     "output_type": "execute_result"
    }
   ],
   "source": [
    "import org.apache.spark.sql.functions._ // for `when`and `udf`\n",
    "\n",
    "val ili = udf((s:String) => {\n",
    "    if (s == \"A01.1\" || s == \"C01.2\") 1 else 0\n",
    "})\n",
    "\n",
    "val cases = visits.withColumn(\"flu\", when($\"icd10\" === \"C01.2\", 1).otherwise(0))\n",
    "    .withColumn(\"SARI\", when($\"icd10\" === \"B01.3\", 1).otherwise(0))\n",
    "    .withColumn(\"pneumonia\", when($\"icd10\" === \"A01.1\", 1).otherwise(0))\n",
    "    .withColumn(\"ILI\", ili($\"icd10\"))\n",
    "    .withColumn(\"IPD\", when($\"patient_type\" === \"IPD\", 1).otherwise(0))\n",
    "    .withColumn(\"OPD\", when($\"patient_type\" === \"OPD\", 1).otherwise(0))\n",
    "    .select($\"date\", $\"subdistrict\", $\"flu\", $\"SARI\", $\"pneumonia\", $\"ILI\", $\"IPD\", $\"OPD\")\n",
    "\n",
    "\n",
    "val summary = cases\n",
    "    .withWatermark(\"date\", \"5 seconds\")\n",
    "    .groupBy(window($\"date\", \"1 minutes\", \"1 minutes\").alias(\"date\"), $\"subdistrict\")\n",
    "    .agg(sum($\"flu\") as \"flu\"\n",
    "         ,sum($\"ILI\") as \"ILI\"\n",
    "         ,sum($\"SARI\") as \"SARI\"\n",
    "         ,sum($\"pneumonia\") as \"pneumonia\"\n",
    "         ,sum($\"IPD\") as \"IPD\"\n",
    "         ,sum($\"OPD\") as \"OPD\"\n",
    "        )"
   ]
  },
  {
   "cell_type": "code",
   "execution_count": 34,
   "metadata": {
    "scrolled": true
   },
   "outputs": [
    {
     "data": {
      "text/plain": [
       "query = org.apache.spark.sql.execution.streaming.StreamingQueryWrapper@46ad23be\n"
      ]
     },
     "metadata": {},
     "output_type": "display_data"
    },
    {
     "data": {
      "text/plain": [
       "org.apache.spark.sql.execution.streaming.StreamingQueryWrapper@46ad23be"
      ]
     },
     "execution_count": 34,
     "metadata": {},
     "output_type": "execute_result"
    },
    {
     "name": "stdout",
     "output_type": "stream",
     "text": [
      "-------------------------------------------\n",
      "Batch: 0\n",
      "-------------------------------------------\n",
      "+----+-----------+---+---+----+---------+---+---+\n",
      "|date|subdistrict|flu|ILI|SARI|pneumonia|IPD|OPD|\n",
      "+----+-----------+---+---+----+---------+---+---+\n",
      "+----+-----------+---+---+----+---------+---+---+\n",
      "\n",
      "-------------------------------------------\n",
      "Batch: 1\n",
      "-------------------------------------------\n",
      "+--------------------+-----------+---+---+----+---------+---+---+\n",
      "|                date|subdistrict|flu|ILI|SARI|pneumonia|IPD|OPD|\n",
      "+--------------------+-----------+---+---+----+---------+---+---+\n",
      "|[2020-03-08 14:22...|      92001|  0|  1|   0|        1|  0|  1|\n",
      "|[2020-03-08 14:22...|      92002|  1|  2|   0|        1|  1|  1|\n",
      "|[2020-03-08 14:22...|      92003|  0|  0|   1|        0|  1|  0|\n",
      "+--------------------+-----------+---+---+----+---------+---+---+\n",
      "\n",
      "-------------------------------------------\n",
      "Batch: 2\n",
      "-------------------------------------------\n",
      "+--------------------+-----------+---+---+----+---------+---+---+\n",
      "|                date|subdistrict|flu|ILI|SARI|pneumonia|IPD|OPD|\n",
      "+--------------------+-----------+---+---+----+---------+---+---+\n",
      "|[2020-03-08 14:22...|      92001|  0|  1|   2|        1|  2|  1|\n",
      "|[2020-03-08 14:22...|      92002|  1|  2|   1|        1|  2|  1|\n",
      "|[2020-03-08 14:22...|      92003|  1|  1|   2|        0|  1|  2|\n",
      "+--------------------+-----------+---+---+----+---------+---+---+\n",
      "\n"
     ]
    }
   ],
   "source": [
    "\n",
    "import org.apache.spark.sql.streaming.Trigger\n",
    "val query = summary.writeStream\n",
    "    .outputMode(\"update\")\n",
    "    .format(\"console\")\n",
    "    .trigger(Trigger.ProcessingTime(\"5 seconds\"))\n",
    "    .start()"
   ]
  },
  {
   "cell_type": "code",
   "execution_count": 35,
   "metadata": {},
   "outputs": [],
   "source": [
    "query.stop()"
   ]
  },
  {
   "cell_type": "code",
   "execution_count": null,
   "metadata": {},
   "outputs": [],
   "source": []
  }
 ],
 "metadata": {
  "kernelspec": {
   "display_name": "Apache Toree - Scala",
   "language": "scala",
   "name": "apache_toree_scala"
  },
  "language_info": {
   "codemirror_mode": "text/x-scala",
   "file_extension": ".scala",
   "mimetype": "text/x-scala",
   "name": "scala",
   "pygments_lexer": "scala",
   "version": "2.11.12"
  }
 },
 "nbformat": 4,
 "nbformat_minor": 4
}
