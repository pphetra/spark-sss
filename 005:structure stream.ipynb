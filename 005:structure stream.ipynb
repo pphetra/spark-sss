{
 "cells": [
  {
   "cell_type": "code",
   "execution_count": 1,
   "metadata": {},
   "outputs": [
    {
     "data": {
      "text/plain": [
       "source = [value: string]\n"
      ]
     },
     "metadata": {},
     "output_type": "display_data"
    },
    {
     "data": {
      "text/plain": [
       "[value: string]"
      ]
     },
     "execution_count": 1,
     "metadata": {},
     "output_type": "execute_result"
    }
   ],
   "source": [
    "val source = spark.readStream\n",
    "    .format(\"socket\")\n",
    "    .option(\"host\", \"127.0.0.1\")\n",
    "    .option(\"port\", 9876)\n",
    "    .load()"
   ]
  },
  {
   "cell_type": "code",
   "execution_count": 2,
   "metadata": {},
   "outputs": [
    {
     "data": {
      "text/plain": [
       "visits = [date: string, gender: string ... 3 more fields]\n"
      ]
     },
     "metadata": {},
     "output_type": "display_data"
    },
    {
     "data": {
      "text/plain": [
       "[date: string, gender: string ... 3 more fields]"
      ]
     },
     "execution_count": 2,
     "metadata": {},
     "output_type": "execute_result"
    }
   ],
   "source": [
    "// read how to transform column in dataframe \n",
    "// https://sparkbyexamples.com/spark/spark-dataframe-withcolumn/\n",
    "\n",
    "import org.apache.spark.sql.functions.split\n",
    "\n",
    "val visits = source\n",
    "    .withColumn(\"_tmp\", split($\"value\", \"\\\\,\"))\n",
    "    .select(\n",
    "        $\"_tmp\".getItem(0).as(\"date\"),\n",
    "        $\"_tmp\".getItem(1).as(\"gender\"),\n",
    "        $\"_tmp\".getItem(2).as(\"icd10\"),\n",
    "        $\"_tmp\".getItem(3).as(\"patient_type\"),\n",
    "        $\"_tmp\".getItem(4).as(\"subdistrict\")\n",
    "    ).drop(\"_tmp\")\n",
    "\n"
   ]
  },
  {
   "cell_type": "code",
   "execution_count": null,
   "metadata": {},
   "outputs": [],
   "source": [
    "\n",
    "import org.apache.spark.sql.streaming.Trigger\n",
    "val query = visits.writeStream\n",
    "    .outputMode(\"append\")\n",
    "    .format(\"console\")\n",
    "    .trigger(Trigger.ProcessingTime(\"5 seconds\"))\n",
    "    .start()\n",
    "\n",
    "\n"
   ]
  },
  {
   "cell_type": "code",
   "execution_count": 3,
   "metadata": {},
   "outputs": [
    {
     "data": {
      "text/plain": [
       "ili = UserDefinedFunction(<function1>,IntegerType,Some(List(StringType)))\n",
       "cases = [date: string, subdistrict: string ... 6 more fields]\n"
      ]
     },
     "metadata": {},
     "output_type": "display_data"
    },
    {
     "data": {
      "text/plain": [
       "[date: string, subdistrict: string ... 6 more fields]"
      ]
     },
     "execution_count": 3,
     "metadata": {},
     "output_type": "execute_result"
    }
   ],
   "source": [
    "import org.apache.spark.sql.functions._ // for `when`and `udf`\n",
    "\n",
    "val ili = udf((s:String) => {\n",
    "    if (s == \"A01.1\" || s == \"C01.2\") 1 else 0\n",
    "})\n",
    "\n",
    "val cases = visits.withColumn(\"flu\", when($\"icd10\" === \"C01.2\", 1).otherwise(0))\n",
    "    .withColumn(\"SARI\", when($\"icd10\" === \"B01.3\", 1).otherwise(0))\n",
    "    .withColumn(\"pneumonia\", when($\"icd10\" === \"A01.1\", 1).otherwise(0))\n",
    "    .withColumn(\"ILI\", ili($\"icd10\"))\n",
    "    .withColumn(\"IPD\", when($\"patient_type\" === \"IPD\", 1).otherwise(0))\n",
    "    .withColumn(\"OPD\", when($\"patient_type\" === \"OPD\", 1).otherwise(0))\n",
    "    .select($\"date\", $\"subdistrict\", $\"flu\", $\"SARI\", $\"pneumonia\", $\"ILI\", $\"IPD\", $\"OPD\")\n",
    "\n"
   ]
  },
  {
   "cell_type": "code",
   "execution_count": null,
   "metadata": {},
   "outputs": [],
   "source": [
    "\n",
    "import org.apache.spark.sql.streaming.Trigger\n",
    "val query = cases.writeStream\n",
    "    .outputMode(\"append\")\n",
    "    .format(\"console\")\n",
    "    .trigger(Trigger.ProcessingTime(\"5 seconds\"))\n",
    "    .start()\n",
    "\n"
   ]
  },
  {
   "cell_type": "code",
   "execution_count": 4,
   "metadata": {},
   "outputs": [
    {
     "data": {
      "text/plain": [
       "summary = [subdistrict: string, flu: bigint ... 5 more fields]\n"
      ]
     },
     "metadata": {},
     "output_type": "display_data"
    },
    {
     "data": {
      "text/plain": [
       "[subdistrict: string, flu: bigint ... 5 more fields]"
      ]
     },
     "execution_count": 4,
     "metadata": {},
     "output_type": "execute_result"
    }
   ],
   "source": [
    "val summary = cases.groupBy($\"subdistrict\")\n",
    "    .agg(sum($\"flu\") as \"flu\"\n",
    "         ,sum($\"ILI\") as \"ILI\"\n",
    "         ,sum($\"SARI\") as \"SARI\"\n",
    "         ,sum($\"pneumonia\") as \"pneumonia\"\n",
    "         ,sum($\"IPD\") as \"IPD\"\n",
    "         ,sum($\"OPD\") as \"OPD\"\n",
    "        )\n",
    ".orderBy(asc(\"subdistrict\"))"
   ]
  },
  {
   "cell_type": "code",
   "execution_count": 5,
   "metadata": {},
   "outputs": [
    {
     "data": {
      "text/plain": [
       "query = org.apache.spark.sql.execution.streaming.StreamingQueryWrapper@533a363f\n"
      ]
     },
     "metadata": {},
     "output_type": "display_data"
    },
    {
     "data": {
      "text/plain": [
       "org.apache.spark.sql.execution.streaming.StreamingQueryWrapper@533a363f"
      ]
     },
     "execution_count": 5,
     "metadata": {},
     "output_type": "execute_result"
    },
    {
     "name": "stdout",
     "output_type": "stream",
     "text": [
      "-------------------------------------------\n",
      "Batch: 0\n",
      "-------------------------------------------\n",
      "+-----------+---+---+----+---------+---+---+\n",
      "|subdistrict|flu|ILI|SARI|pneumonia|IPD|OPD|\n",
      "+-----------+---+---+----+---------+---+---+\n",
      "+-----------+---+---+----+---------+---+---+\n",
      "\n",
      "-------------------------------------------\n",
      "Batch: 1\n",
      "-------------------------------------------\n",
      "+-----------+---+---+----+---------+---+---+\n",
      "|subdistrict|flu|ILI|SARI|pneumonia|IPD|OPD|\n",
      "+-----------+---+---+----+---------+---+---+\n",
      "|      92001|  0|  1|   0|        1|  1|  0|\n",
      "|      92002|  0|  0|   1|        0|  1|  0|\n",
      "|      92003|  1|  2|   2|        1|  2|  2|\n",
      "+-----------+---+---+----+---------+---+---+\n",
      "\n",
      "-------------------------------------------\n",
      "Batch: 2\n",
      "-------------------------------------------\n",
      "+-----------+---+---+----+---------+---+---+\n",
      "|subdistrict|flu|ILI|SARI|pneumonia|IPD|OPD|\n",
      "+-----------+---+---+----+---------+---+---+\n",
      "|      92001|  0|  2|   1|        2|  2|  1|\n",
      "|      92002|  0|  0|   1|        0|  1|  0|\n",
      "|      92003|  1|  2|   3|        1|  3|  2|\n",
      "+-----------+---+---+----+---------+---+---+\n",
      "\n",
      "-------------------------------------------\n",
      "Batch: 3\n",
      "-------------------------------------------\n",
      "+-----------+---+---+----+---------+---+---+\n",
      "|subdistrict|flu|ILI|SARI|pneumonia|IPD|OPD|\n",
      "+-----------+---+---+----+---------+---+---+\n",
      "|      92001|  0|  2|   2|        2|  2|  2|\n",
      "|      92002|  0|  0|   3|        0|  1|  2|\n",
      "|      92003|  1|  2|   4|        1|  4|  2|\n",
      "+-----------+---+---+----+---------+---+---+\n",
      "\n",
      "-------------------------------------------\n",
      "Batch: 4\n",
      "-------------------------------------------\n",
      "+-----------+---+---+----+---------+---+---+\n",
      "|subdistrict|flu|ILI|SARI|pneumonia|IPD|OPD|\n",
      "+-----------+---+---+----+---------+---+---+\n",
      "|      92001|  0|  2|   3|        2|  2|  3|\n",
      "|      92002|  1|  1|   4|        0|  2|  3|\n",
      "|      92003|  1|  4|   4|        3|  5|  3|\n",
      "+-----------+---+---+----+---------+---+---+\n",
      "\n",
      "-------------------------------------------\n",
      "Batch: 5\n",
      "-------------------------------------------\n",
      "+-----------+---+---+----+---------+---+---+\n",
      "|subdistrict|flu|ILI|SARI|pneumonia|IPD|OPD|\n",
      "+-----------+---+---+----+---------+---+---+\n",
      "|      92001|  0|  2|   3|        2|  2|  3|\n",
      "|      92002|  3|  3|   5|        0|  4|  4|\n",
      "|      92003|  1|  5|   5|        4|  7|  3|\n",
      "+-----------+---+---+----+---------+---+---+\n",
      "\n",
      "-------------------------------------------\n",
      "Batch: 6\n",
      "-------------------------------------------\n",
      "+-----------+---+---+----+---------+---+---+\n",
      "|subdistrict|flu|ILI|SARI|pneumonia|IPD|OPD|\n",
      "+-----------+---+---+----+---------+---+---+\n",
      "|      92001|  0|  2|   4|        2|  2|  4|\n",
      "|      92002|  3|  4|   5|        1|  4|  5|\n",
      "|      92003|  3|  8|   5|        5|  9|  4|\n",
      "+-----------+---+---+----+---------+---+---+\n",
      "\n"
     ]
    }
   ],
   "source": [
    "\n",
    "import org.apache.spark.sql.streaming.Trigger\n",
    "val query = summary.writeStream\n",
    "    .outputMode(\"complete\")\n",
    "    .format(\"console\")\n",
    "    .trigger(Trigger.ProcessingTime(\"5 seconds\"))\n",
    "    .start()\n",
    "\n",
    "\n"
   ]
  },
  {
   "cell_type": "code",
   "execution_count": 6,
   "metadata": {},
   "outputs": [],
   "source": [
    "spark.stop()"
   ]
  },
  {
   "cell_type": "code",
   "execution_count": null,
   "metadata": {},
   "outputs": [],
   "source": []
  }
 ],
 "metadata": {
  "kernelspec": {
   "display_name": "Apache Toree - Scala",
   "language": "scala",
   "name": "apache_toree_scala"
  },
  "language_info": {
   "codemirror_mode": "text/x-scala",
   "file_extension": ".scala",
   "mimetype": "text/x-scala",
   "name": "scala",
   "pygments_lexer": "scala",
   "version": "2.11.12"
  }
 },
 "nbformat": 4,
 "nbformat_minor": 4
}
