{
 "cells": [
  {
   "cell_type": "code",
   "execution_count": 1,
   "metadata": {},
   "outputs": [],
   "source": [
    "from random import choice\n",
    "from datetime import datetime\n"
   ]
  },
  {
   "cell_type": "code",
   "execution_count": 2,
   "metadata": {},
   "outputs": [],
   "source": [
    "def gender():\n",
    "    return choice(['M', 'F'])"
   ]
  },
  {
   "cell_type": "code",
   "execution_count": 3,
   "metadata": {},
   "outputs": [],
   "source": [
    "def icd10():\n",
    "    return choice(['A01.1', 'B01.3', 'C01.2'])"
   ]
  },
  {
   "cell_type": "code",
   "execution_count": 4,
   "metadata": {},
   "outputs": [],
   "source": [
    "def patient_type():\n",
    "    return choice(['IPD', 'OPD'])"
   ]
  },
  {
   "cell_type": "code",
   "execution_count": 5,
   "metadata": {},
   "outputs": [],
   "source": [
    "def subdistrict():\n",
    "    return choice(['92001', '92002', '92003'])"
   ]
  },
  {
   "cell_type": "code",
   "execution_count": 6,
   "metadata": {},
   "outputs": [],
   "source": [
    "def date():\n",
    "    return datetime(2020, 3, choice(range(1, 20)))"
   ]
  },
  {
   "cell_type": "code",
   "execution_count": null,
   "metadata": {},
   "outputs": [],
   "source": [
    "import csv\n",
    "def generate_csv(count = 20):\n",
    "    with open('visit.csv', 'w', newline='') as file:\n",
    "        writer = csv.writer(file)\n",
    "        for i in range(1, count):\n",
    "            writer.writerow([\n",
    "                date().isoformat(),\n",
    "                gender(),\n",
    "                icd10(),\n",
    "                patient_type(),\n",
    "                subdistrict()\n",
    "            ])\n",
    "            "
   ]
  },
  {
   "cell_type": "code",
   "execution_count": null,
   "metadata": {},
   "outputs": [],
   "source": [
    "generate_csv()"
   ]
  },
  {
   "cell_type": "code",
   "execution_count": null,
   "metadata": {},
   "outputs": [],
   "source": [
    "import json\n",
    "def generate_json(count = 20):\n",
    "    with open('visit.json', 'w', newline='\\n') as file:\n",
    "        for i in range(1, count):\n",
    "            file.write(json.dumps({\n",
    "                'date': date().isoformat(),\n",
    "                'gender': gender(),\n",
    "                'icd10': icd10(),\n",
    "                'patient_type': patient_type(),\n",
    "                'subdistrict': subdistrict()\n",
    "            }))"
   ]
  },
  {
   "cell_type": "code",
   "execution_count": null,
   "metadata": {},
   "outputs": [],
   "source": [
    "generate_json()"
   ]
  },
  {
   "cell_type": "code",
   "execution_count": 17,
   "metadata": {},
   "outputs": [
    {
     "name": "stdout",
     "output_type": "stream",
     "text": [
      "connect by ('127.0.0.1', 55622)\n",
      "send data 2020-03-06T00:00:00,F,B01.3,IPD,92002\n",
      "\n",
      "send data 2020-03-10T00:00:00,M,B01.3,IPD,92003\n",
      "\n",
      "send data 2020-03-13T00:00:00,M,B01.3,OPD,92003\n",
      "\n",
      "send data 2020-03-11T00:00:00,F,A01.1,OPD,92003\n",
      "\n",
      "send data 2020-03-10T00:00:00,F,C01.2,IPD,92003\n",
      "\n",
      "send data 2020-03-02T00:00:00,M,A01.1,IPD,92001\n",
      "\n",
      "send data 2020-03-02T00:00:00,F,A01.1,IPD,92001\n",
      "\n",
      "send data 2020-03-06T00:00:00,M,B01.3,IPD,92003\n",
      "\n",
      "send data 2020-03-07T00:00:00,F,B01.3,OPD,92001\n",
      "\n",
      "send data 2020-03-18T00:00:00,F,B01.3,OPD,92001\n",
      "\n",
      "send data 2020-03-03T00:00:00,M,B01.3,IPD,92003\n",
      "\n",
      "send data 2020-03-16T00:00:00,M,B01.3,OPD,92002\n",
      "\n",
      "send data 2020-03-03T00:00:00,M,B01.3,OPD,92002\n",
      "\n",
      "send data 2020-03-18T00:00:00,F,B01.3,IPD,92002\n",
      "\n",
      "send data 2020-03-16T00:00:00,M,A01.1,OPD,92003\n",
      "\n",
      "send data 2020-03-01T00:00:00,M,C01.2,OPD,92002\n",
      "\n",
      "send data 2020-03-03T00:00:00,F,A01.1,IPD,92003\n",
      "\n",
      "send data 2020-03-07T00:00:00,F,B01.3,OPD,92001\n",
      "\n",
      "send data 2020-03-02T00:00:00,F,C01.2,IPD,92002\n",
      "\n",
      "send data 2020-03-12T00:00:00,F,A01.1,IPD,92003\n",
      "\n",
      "send data 2020-03-15T00:00:00,F,B01.3,IPD,92003\n",
      "\n",
      "send data 2020-03-19T00:00:00,M,C01.2,IPD,92002\n",
      "\n",
      "send data 2020-03-02T00:00:00,M,B01.3,OPD,92002\n",
      "\n",
      "send data 2020-03-17T00:00:00,F,B01.3,OPD,92001\n",
      "\n",
      "send data 2020-03-13T00:00:00,M,C01.2,OPD,92003\n",
      "\n",
      "send data 2020-03-12T00:00:00,F,A01.1,IPD,92003\n",
      "\n",
      "send data 2020-03-16T00:00:00,M,A01.1,OPD,92002\n",
      "\n",
      "send data 2020-03-14T00:00:00,F,C01.2,IPD,92003\n",
      "\n",
      "send data 2020-03-03T00:00:00,F,B01.3,IPD,92003\n",
      "\n",
      "send data 2020-03-10T00:00:00,M,B01.3,IPD,92001\n",
      "\n",
      "send data 2020-03-12T00:00:00,F,A01.1,OPD,92002\n",
      "\n",
      "send data 2020-03-01T00:00:00,F,C01.2,OPD,92003\n",
      "\n",
      "send data 2020-03-04T00:00:00,F,B01.3,IPD,92002\n",
      "\n",
      "send data 2020-03-12T00:00:00,F,A01.1,OPD,92001\n",
      "\n",
      "send data 2020-03-09T00:00:00,F,A01.1,IPD,92003\n",
      "\n"
     ]
    },
    {
     "ename": "BrokenPipeError",
     "evalue": "[Errno 32] Broken pipe",
     "output_type": "error",
     "traceback": [
      "\u001b[0;31m---------------------------------------------------------------------------\u001b[0m",
      "\u001b[0;31mBrokenPipeError\u001b[0m                           Traceback (most recent call last)",
      "\u001b[0;32m<ipython-input-17-e02b1a20d37f>\u001b[0m in \u001b[0;36m<module>\u001b[0;34m\u001b[0m\n\u001b[1;32m     16\u001b[0m                                            subdistrict())\n\u001b[1;32m     17\u001b[0m             \u001b[0mprint\u001b[0m\u001b[0;34m(\u001b[0m\u001b[0;34m'send data'\u001b[0m\u001b[0;34m,\u001b[0m \u001b[0mdata\u001b[0m\u001b[0;34m)\u001b[0m\u001b[0;34m\u001b[0m\u001b[0;34m\u001b[0m\u001b[0m\n\u001b[0;32m---> 18\u001b[0;31m             \u001b[0mconn\u001b[0m\u001b[0;34m.\u001b[0m\u001b[0msendall\u001b[0m\u001b[0;34m(\u001b[0m\u001b[0mdata\u001b[0m\u001b[0;34m.\u001b[0m\u001b[0mencode\u001b[0m\u001b[0;34m(\u001b[0m\u001b[0;34m)\u001b[0m\u001b[0;34m)\u001b[0m\u001b[0;34m\u001b[0m\u001b[0;34m\u001b[0m\u001b[0m\n\u001b[0m\u001b[1;32m     19\u001b[0m             \u001b[0mtime\u001b[0m\u001b[0;34m.\u001b[0m\u001b[0msleep\u001b[0m\u001b[0;34m(\u001b[0m\u001b[0;36m1\u001b[0m\u001b[0;34m)\u001b[0m\u001b[0;34m\u001b[0m\u001b[0;34m\u001b[0m\u001b[0m\n\u001b[1;32m     20\u001b[0m \u001b[0;34m\u001b[0m\u001b[0m\n",
      "\u001b[0;31mBrokenPipeError\u001b[0m: [Errno 32] Broken pipe"
     ]
    }
   ],
   "source": [
    "import socket\n",
    "import time\n",
    "import json\n",
    "\n",
    "with socket.socket(socket.AF_INET, socket.SOCK_STREAM) as s:\n",
    "    s.bind(('127.0.0.1', 9876))\n",
    "    s.listen()\n",
    "    conn, addr = s.accept()\n",
    "    with conn:\n",
    "        print('connect by', addr)\n",
    "        while True:\n",
    "            data = \"%s,%s,%s,%s,%s\\r\\n\" % (date().isoformat(), \n",
    "                                           gender(), \n",
    "                                           icd10(), \n",
    "                                           patient_type(), \n",
    "                                           subdistrict())\n",
    "            print('send data', data)\n",
    "            conn.sendall(data.encode())\n",
    "            time.sleep(1)\n",
    "                 "
   ]
  },
  {
   "cell_type": "code",
   "execution_count": 13,
   "metadata": {},
   "outputs": [
    {
     "name": "stdout",
     "output_type": "stream",
     "text": [
      "connect by ('127.0.0.1', 54886)\n"
     ]
    },
    {
     "ename": "BrokenPipeError",
     "evalue": "[Errno 32] Broken pipe",
     "output_type": "error",
     "traceback": [
      "\u001b[0;31m---------------------------------------------------------------------------\u001b[0m",
      "\u001b[0;31mBrokenPipeError\u001b[0m                           Traceback (most recent call last)",
      "\u001b[0;32m<ipython-input-13-9dcd174a2604>\u001b[0m in \u001b[0;36m<module>\u001b[0;34m\u001b[0m\n\u001b[1;32m     17\u001b[0m                 \u001b[0;34m'subdistrict'\u001b[0m\u001b[0;34m:\u001b[0m \u001b[0msubdistrict\u001b[0m\u001b[0;34m(\u001b[0m\u001b[0;34m)\u001b[0m\u001b[0;34m\u001b[0m\u001b[0;34m\u001b[0m\u001b[0m\n\u001b[1;32m     18\u001b[0m             }) + \"\\r\\n\"\n\u001b[0;32m---> 19\u001b[0;31m             \u001b[0mconn\u001b[0m\u001b[0;34m.\u001b[0m\u001b[0msendall\u001b[0m\u001b[0;34m(\u001b[0m\u001b[0mdata\u001b[0m\u001b[0;34m.\u001b[0m\u001b[0mencode\u001b[0m\u001b[0;34m(\u001b[0m\u001b[0;34m)\u001b[0m\u001b[0;34m)\u001b[0m\u001b[0;34m\u001b[0m\u001b[0;34m\u001b[0m\u001b[0m\n\u001b[0m\u001b[1;32m     20\u001b[0m             \u001b[0mtime\u001b[0m\u001b[0;34m.\u001b[0m\u001b[0msleep\u001b[0m\u001b[0;34m(\u001b[0m\u001b[0;36m1\u001b[0m\u001b[0;34m)\u001b[0m\u001b[0;34m\u001b[0m\u001b[0;34m\u001b[0m\u001b[0m\n\u001b[1;32m     21\u001b[0m \u001b[0;34m\u001b[0m\u001b[0m\n",
      "\u001b[0;31mBrokenPipeError\u001b[0m: [Errno 32] Broken pipe"
     ]
    }
   ],
   "source": [
    "import socket\n",
    "import time\n",
    "import json\n",
    "\n",
    "with socket.socket(socket.AF_INET, socket.SOCK_STREAM) as s:\n",
    "    s.bind(('127.0.0.1', 9876))\n",
    "    s.listen()\n",
    "    conn, addr = s.accept()\n",
    "    with conn:\n",
    "        print('connect by', addr)\n",
    "        while True:\n",
    "            data = json.dumps({\n",
    "                'date': date().isoformat(),\n",
    "                'gender': gender(),\n",
    "                'icd10': icd10(),\n",
    "                'patient_type': patient_type(),\n",
    "                'subdistrict': subdistrict()\n",
    "            }) + \"\\r\\n\"\n",
    "            conn.sendall(data.encode())\n",
    "            time.sleep(1)\n",
    "                 "
   ]
  },
  {
   "cell_type": "code",
   "execution_count": null,
   "metadata": {},
   "outputs": [],
   "source": []
  }
 ],
 "metadata": {
  "kernelspec": {
   "display_name": "Python 3",
   "language": "python",
   "name": "python3"
  },
  "language_info": {
   "codemirror_mode": {
    "name": "ipython",
    "version": 3
   },
   "file_extension": ".py",
   "mimetype": "text/x-python",
   "name": "python",
   "nbconvert_exporter": "python",
   "pygments_lexer": "ipython3",
   "version": "3.7.5"
  }
 },
 "nbformat": 4,
 "nbformat_minor": 4
}
