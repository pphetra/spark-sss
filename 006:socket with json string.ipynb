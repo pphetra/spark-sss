{
 "cells": [
  {
   "cell_type": "code",
   "execution_count": 1,
   "metadata": {},
   "outputs": [
    {
     "data": {
      "text/plain": [
       "source = [value: string]\n"
      ]
     },
     "metadata": {},
     "output_type": "display_data"
    },
    {
     "data": {
      "text/plain": [
       "[value: string]"
      ]
     },
     "execution_count": 1,
     "metadata": {},
     "output_type": "execute_result"
    }
   ],
   "source": [
    "val source = spark.readStream\n",
    "    .format(\"socket\")\n",
    "    .option(\"host\", \"127.0.0.1\")\n",
    "    .option(\"port\", 9876)\n",
    "    .load()"
   ]
  },
  {
   "cell_type": "code",
   "execution_count": 2,
   "metadata": {},
   "outputs": [
    {
     "data": {
      "text/plain": [
       "jsonSchema = StructType(StructField(date,StringType,true), StructField(gender,StringType,true), StructField(icd10,StringType,true), StructField(partient_type,StringType,true), StructField(subdistrict,StringType,true))\n"
      ]
     },
     "metadata": {},
     "output_type": "display_data"
    },
    {
     "data": {
      "text/plain": [
       "StructType(StructField(date,StringType,true), StructField(gender,StringType,true), StructField(icd10,StringType,true), StructField(partient_type,StringType,true), StructField(subdistrict,StringType,true))"
      ]
     },
     "execution_count": 2,
     "metadata": {},
     "output_type": "execute_result"
    }
   ],
   "source": [
    "// read more at this url\n",
    "// https://docs.databricks.com/spark/latest/dataframes-datasets/complex-nested-data.html#complex-nested-data-notebook\n",
    "\n",
    "import org.apache.spark.sql.types._                         // include the Spark Types to define our schema\n",
    "import org.apache.spark.sql.functions._                     // include the Spark helper functions\n",
    "\n",
    "val jsonSchema = new StructType()\n",
    "        .add(\"date\", StringType)\n",
    "        .add(\"gender\", StringType)\n",
    "        .add(\"icd10\",StringType)\n",
    "        .add(\"patient_type\", StringType)\n",
    "        .add(\"subdistrict\", StringType)"
   ]
  },
  {
   "cell_type": "code",
   "execution_count": 3,
   "metadata": {},
   "outputs": [
    {
     "data": {
      "text/plain": [
       "visits = [date: string, gender: string ... 3 more fields]\n"
      ]
     },
     "metadata": {},
     "output_type": "display_data"
    },
    {
     "data": {
      "text/plain": [
       "[date: string, gender: string ... 3 more fields]"
      ]
     },
     "execution_count": 3,
     "metadata": {},
     "output_type": "execute_result"
    }
   ],
   "source": [
    "val visits = source.select(from_json($\"value\", jsonSchema) as \"data\")\n",
    "    .select($\"data.*\")"
   ]
  },
  {
   "cell_type": "code",
   "execution_count": 4,
   "metadata": {
    "scrolled": true
   },
   "outputs": [
    {
     "data": {
      "text/plain": [
       "query = org.apache.spark.sql.execution.streaming.StreamingQueryWrapper@110d68e8\n"
      ]
     },
     "metadata": {},
     "output_type": "display_data"
    },
    {
     "data": {
      "text/plain": [
       "org.apache.spark.sql.execution.streaming.StreamingQueryWrapper@110d68e8"
      ]
     },
     "execution_count": 4,
     "metadata": {},
     "output_type": "execute_result"
    },
    {
     "name": "stdout",
     "output_type": "stream",
     "text": [
      "-------------------------------------------\n",
      "Batch: 0\n",
      "-------------------------------------------\n",
      "+----+------+-----+-------------+-----------+\n",
      "|date|gender|icd10|partient_type|subdistrict|\n",
      "+----+------+-----+-------------+-----------+\n",
      "+----+------+-----+-------------+-----------+\n",
      "\n",
      "-------------------------------------------\n",
      "Batch: 1\n",
      "-------------------------------------------\n",
      "+-------------------+------+-----+-------------+-----------+\n",
      "|               date|gender|icd10|partient_type|subdistrict|\n",
      "+-------------------+------+-----+-------------+-----------+\n",
      "|2020-03-15T00:00:00|     F|A01.1|         null|      92003|\n",
      "|2020-03-18T00:00:00|     M|B01.3|         null|      92003|\n",
      "+-------------------+------+-----+-------------+-----------+\n",
      "\n",
      "-------------------------------------------\n",
      "Batch: 2\n",
      "-------------------------------------------\n",
      "+-------------------+------+-----+-------------+-----------+\n",
      "|               date|gender|icd10|partient_type|subdistrict|\n",
      "+-------------------+------+-----+-------------+-----------+\n",
      "|2020-03-04T00:00:00|     F|B01.3|         null|      92003|\n",
      "|2020-03-10T00:00:00|     F|C01.2|         null|      92003|\n",
      "|2020-03-16T00:00:00|     M|C01.2|         null|      92003|\n",
      "+-------------------+------+-----+-------------+-----------+\n",
      "\n",
      "-------------------------------------------\n",
      "Batch: 3\n",
      "-------------------------------------------\n",
      "+-------------------+------+-----+-------------+-----------+\n",
      "|               date|gender|icd10|partient_type|subdistrict|\n",
      "+-------------------+------+-----+-------------+-----------+\n",
      "|2020-03-15T00:00:00|     M|A01.1|         null|      92002|\n",
      "|2020-03-15T00:00:00|     M|B01.3|         null|      92001|\n",
      "|2020-03-17T00:00:00|     M|A01.1|         null|      92003|\n",
      "|2020-03-08T00:00:00|     F|A01.1|         null|      92003|\n",
      "|2020-03-18T00:00:00|     M|A01.1|         null|      92001|\n",
      "+-------------------+------+-----+-------------+-----------+\n",
      "\n",
      "-------------------------------------------\n",
      "Batch: 4\n",
      "-------------------------------------------\n",
      "+-------------------+------+-----+-------------+-----------+\n",
      "|               date|gender|icd10|partient_type|subdistrict|\n",
      "+-------------------+------+-----+-------------+-----------+\n",
      "|2020-03-18T00:00:00|     F|A01.1|         null|      92002|\n",
      "|2020-03-12T00:00:00|     M|B01.3|         null|      92002|\n",
      "|2020-03-14T00:00:00|     M|B01.3|         null|      92002|\n",
      "|2020-03-16T00:00:00|     F|A01.1|         null|      92003|\n",
      "|2020-03-11T00:00:00|     F|A01.1|         null|      92001|\n",
      "+-------------------+------+-----+-------------+-----------+\n",
      "\n",
      "-------------------------------------------\n",
      "Batch: 5\n",
      "-------------------------------------------\n",
      "+-------------------+------+-----+-------------+-----------+\n",
      "|               date|gender|icd10|partient_type|subdistrict|\n",
      "+-------------------+------+-----+-------------+-----------+\n",
      "|2020-03-03T00:00:00|     F|B01.3|         null|      92002|\n",
      "|2020-03-12T00:00:00|     M|B01.3|         null|      92002|\n",
      "|2020-03-17T00:00:00|     F|C01.2|         null|      92003|\n",
      "|2020-03-03T00:00:00|     F|B01.3|         null|      92001|\n",
      "|2020-03-10T00:00:00|     F|C01.2|         null|      92002|\n",
      "+-------------------+------+-----+-------------+-----------+\n",
      "\n"
     ]
    }
   ],
   "source": [
    "\n",
    "import org.apache.spark.sql.streaming.Trigger\n",
    "val query = visits.writeStream\n",
    "    .outputMode(\"append\")\n",
    "    .format(\"console\")\n",
    "    .trigger(Trigger.ProcessingTime(\"5 seconds\"))\n",
    "    .start()"
   ]
  },
  {
   "cell_type": "code",
   "execution_count": 5,
   "metadata": {},
   "outputs": [],
   "source": [
    "query.stop()"
   ]
  },
  {
   "cell_type": "code",
   "execution_count": null,
   "metadata": {},
   "outputs": [],
   "source": []
  }
 ],
 "metadata": {
  "kernelspec": {
   "display_name": "Apache Toree - Scala",
   "language": "scala",
   "name": "apache_toree_scala"
  },
  "language_info": {
   "codemirror_mode": "text/x-scala",
   "file_extension": ".scala",
   "mimetype": "text/x-scala",
   "name": "scala",
   "pygments_lexer": "scala",
   "version": "2.11.12"
  }
 },
 "nbformat": 4,
 "nbformat_minor": 4
}
