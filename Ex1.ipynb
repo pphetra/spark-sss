{
 "cells": [
  {
   "cell_type": "code",
   "execution_count": 2,
   "metadata": {},
   "outputs": [
    {
     "data": {
      "text/plain": [
       "covid070320 = [Province/State: string, Country/Region: string ... 6 more fields]\n"
      ]
     },
     "metadata": {},
     "output_type": "display_data"
    },
    {
     "data": {
      "text/plain": [
       "lastException: Throwable = null\n"
      ]
     },
     "metadata": {},
     "output_type": "display_data"
    },
    {
     "data": {
      "text/plain": [
       "[Province/State: string, Country/Region: string ... 6 more fields]"
      ]
     },
     "execution_count": 2,
     "metadata": {},
     "output_type": "execute_result"
    }
   ],
   "source": [
    "val covid070320 = spark\n",
    "    .read\n",
    "    .option(\"inferSchema\", \"true\")\n",
    "    .option(\"header\", \"true\")\n",
    "    .csv(\"03-07-2020.csv\")"
   ]
  },
  {
   "cell_type": "code",
   "execution_count": 4,
   "metadata": {},
   "outputs": [
    {
     "data": {
      "text/plain": [
       "225"
      ]
     },
     "execution_count": 4,
     "metadata": {},
     "output_type": "execute_result"
    }
   ],
   "source": [
    "covid070320.count()"
   ]
  },
  {
   "cell_type": "code",
   "execution_count": 10,
   "metadata": {},
   "outputs": [
    {
     "name": "stdout",
     "output_type": "stream",
     "text": [
      "+--------------------+--------------+-------------------+---------+------+---------+--------+---------+\n",
      "|      Province/State|Country/Region|        Last Update|Confirmed|Deaths|Recovered|Latitude|Longitude|\n",
      "+--------------------+--------------+-------------------+---------+------+---------+--------+---------+\n",
      "|               Hubei|Mainland China|2020-03-07 11:13:04|    67666|  2959|    43500| 30.9756| 112.2707|\n",
      "|                null|         Italy|2020-03-07 17:33:03|     5883|   233|      589|    43.0|     12.0|\n",
      "|                null|          Iran|2020-03-07 17:43:05|     5823|   145|     1669|    32.0|     53.0|\n",
      "|                null|   South Korea|2020-03-07 10:13:22|     7041|    44|      135|    36.0|    128.0|\n",
      "|               Henan|Mainland China|2020-03-07 11:23:10|     1272|    22|     1244|  33.882|  113.614|\n",
      "|     King County, WA|            US|2020-03-07 20:23:03|       71|    15|        1|  47.548|-121.9836|\n",
      "|        Heilongjiang|Mainland China|2020-03-07 09:03:05|      481|    13|      403|  47.862| 127.7615|\n",
      "|                null|        France|2020-03-07 20:33:02|      949|    11|       12|    47.0|      2.0|\n",
      "|                null|         Spain|2020-03-07 17:43:05|      500|    10|       30|    40.0|     -4.0|\n",
      "|             Beijing|Mainland China|2020-03-07 01:03:05|      426|     8|      303| 40.1824| 116.4142|\n",
      "|           Guangdong|Mainland China|2020-03-07 10:43:02|     1352|     7|     1237| 23.3417| 113.4244|\n",
      "|            Shandong|Mainland China|2020-03-07 13:03:05|      758|     6|      627| 36.3427| 118.1498|\n",
      "|                null|         Japan|2020-03-07 17:43:05|      461|     6|       76|    36.0|    138.0|\n",
      "|Diamond Princess ...|        Others|2020-03-06 01:29:39|      696|     6|       40| 35.4437|  139.638|\n",
      "|               Hebei|Mainland China|2020-03-07 13:03:05|      318|     6|      307| 38.0428| 114.5149|\n",
      "|               Anhui|Mainland China|2020-03-06 03:23:06|      990|     6|      979| 31.8257| 117.2264|\n",
      "|           Chongqing|Mainland China|2020-03-07 23:23:02|      576|     6|      526| 30.0572|  107.874|\n",
      "|              Hainan|Mainland China|2020-03-05 06:13:10|      168|     6|      158| 19.1959| 109.7453|\n",
      "|               Hunan|Mainland China|2020-03-07 09:03:05|     1018|     4|      960| 27.6104| 111.7088|\n",
      "|                null|          Iraq|2020-03-07 18:13:27|       54|     4|        0|    33.0|     44.0|\n",
      "+--------------------+--------------+-------------------+---------+------+---------+--------+---------+\n",
      "only showing top 20 rows\n",
      "\n"
     ]
    }
   ],
   "source": [
    "covid070320.sort($\"Deaths\".desc).show()"
   ]
  },
  {
   "cell_type": "code",
   "execution_count": 11,
   "metadata": {},
   "outputs": [
    {
     "name": "stdout",
     "output_type": "stream",
     "text": [
      "+--------------------+--------------+-------------------+---------+------+---------+--------+---------+\n",
      "|      Province/State|Country/Region|        Last Update|Confirmed|Deaths|Recovered|Latitude|Longitude|\n",
      "+--------------------+--------------+-------------------+---------+------+---------+--------+---------+\n",
      "|               Hubei|Mainland China|2020-03-07 11:13:04|    67666|  2959|    43500| 30.9756| 112.2707|\n",
      "|                null|         Italy|2020-03-07 17:33:03|     5883|   233|      589|    43.0|     12.0|\n",
      "|                null|          Iran|2020-03-07 17:43:05|     5823|   145|     1669|    32.0|     53.0|\n",
      "|                null|   South Korea|2020-03-07 10:13:22|     7041|    44|      135|    36.0|    128.0|\n",
      "|               Henan|Mainland China|2020-03-07 11:23:10|     1272|    22|     1244|  33.882|  113.614|\n",
      "|     King County, WA|            US|2020-03-07 20:23:03|       71|    15|        1|  47.548|-121.9836|\n",
      "|        Heilongjiang|Mainland China|2020-03-07 09:03:05|      481|    13|      403|  47.862| 127.7615|\n",
      "|                null|        France|2020-03-07 20:33:02|      949|    11|       12|    47.0|      2.0|\n",
      "|                null|         Spain|2020-03-07 17:43:05|      500|    10|       30|    40.0|     -4.0|\n",
      "|             Beijing|Mainland China|2020-03-07 01:03:05|      426|     8|      303| 40.1824| 116.4142|\n",
      "|           Guangdong|Mainland China|2020-03-07 10:43:02|     1352|     7|     1237| 23.3417| 113.4244|\n",
      "|            Shandong|Mainland China|2020-03-07 13:03:05|      758|     6|      627| 36.3427| 118.1498|\n",
      "|                null|         Japan|2020-03-07 17:43:05|      461|     6|       76|    36.0|    138.0|\n",
      "|Diamond Princess ...|        Others|2020-03-06 01:29:39|      696|     6|       40| 35.4437|  139.638|\n",
      "|               Hebei|Mainland China|2020-03-07 13:03:05|      318|     6|      307| 38.0428| 114.5149|\n",
      "|               Anhui|Mainland China|2020-03-06 03:23:06|      990|     6|      979| 31.8257| 117.2264|\n",
      "|           Chongqing|Mainland China|2020-03-07 23:23:02|      576|     6|      526| 30.0572|  107.874|\n",
      "|              Hainan|Mainland China|2020-03-05 06:13:10|      168|     6|      158| 19.1959| 109.7453|\n",
      "|               Hunan|Mainland China|2020-03-07 09:03:05|     1018|     4|      960| 27.6104| 111.7088|\n",
      "|                null|          Iraq|2020-03-07 18:13:27|       54|     4|        0|    33.0|     44.0|\n",
      "+--------------------+--------------+-------------------+---------+------+---------+--------+---------+\n",
      "only showing top 20 rows\n",
      "\n"
     ]
    }
   ],
   "source": [
    "import org.apache.spark.sql.functions._\n",
    "covid070320.sort(desc(\"Deaths\")).show()"
   ]
  },
  {
   "cell_type": "code",
   "execution_count": 12,
   "metadata": {},
   "outputs": [
    {
     "name": "stdout",
     "output_type": "stream",
     "text": [
      "== Physical Plan ==\n",
      "*(2) Sort [Deaths#14 DESC NULLS LAST], true, 0\n",
      "+- Exchange rangepartitioning(Deaths#14 DESC NULLS LAST, 200)\n",
      "   +- *(1) FileScan csv [Province/State#10,Country/Region#11,Last Update#12,Confirmed#13,Deaths#14,Recovered#15,Latitude#16,Longitude#17] Batched: false, Format: CSV, Location: InMemoryFileIndex[file:/Users/pphetra/projects/sparktest/03-07-2020.csv], PartitionFilters: [], PushedFilters: [], ReadSchema: struct<Province/State:string,Country/Region:string,Last Update:timestamp,Confirmed:int,Deaths:int...\n"
     ]
    }
   ],
   "source": [
    "covid070320.sort(desc(\"Deaths\")).explain()"
   ]
  },
  {
   "cell_type": "code",
   "execution_count": 13,
   "metadata": {},
   "outputs": [],
   "source": [
    "spark.conf.set(\"spark.sql.shuffle.partitions\", \"5\")"
   ]
  },
  {
   "cell_type": "code",
   "execution_count": 14,
   "metadata": {},
   "outputs": [
    {
     "name": "stdout",
     "output_type": "stream",
     "text": [
      "== Physical Plan ==\n",
      "*(2) Sort [Deaths#14 DESC NULLS LAST], true, 0\n",
      "+- Exchange rangepartitioning(Deaths#14 DESC NULLS LAST, 5)\n",
      "   +- *(1) FileScan csv [Province/State#10,Country/Region#11,Last Update#12,Confirmed#13,Deaths#14,Recovered#15,Latitude#16,Longitude#17] Batched: false, Format: CSV, Location: InMemoryFileIndex[file:/Users/pphetra/projects/sparktest/03-07-2020.csv], PartitionFilters: [], PushedFilters: [], ReadSchema: struct<Province/State:string,Country/Region:string,Last Update:timestamp,Confirmed:int,Deaths:int...\n"
     ]
    }
   ],
   "source": [
    "covid070320.sort(desc(\"Deaths\")).explain()"
   ]
  },
  {
   "cell_type": "code",
   "execution_count": 19,
   "metadata": {},
   "outputs": [
    {
     "name": "stdout",
     "output_type": "stream",
     "text": [
      "+--------------+------+\n",
      "|Country/Region|Deaths|\n",
      "+--------------+------+\n",
      "|Mainland China|  3070|\n",
      "|         Italy|   233|\n",
      "|          Iran|   145|\n",
      "|   South Korea|    44|\n",
      "|            US|    17|\n",
      "|        France|    11|\n",
      "|         Spain|    10|\n",
      "|         Japan|     6|\n",
      "|        Others|     6|\n",
      "|          Iraq|     4|\n",
      "|            UK|     2|\n",
      "|     Australia|     2|\n",
      "|     Hong Kong|     2|\n",
      "|   Philippines|     1|\n",
      "|        Taiwan|     1|\n",
      "|      Thailand|     1|\n",
      "|    San Marino|     1|\n",
      "|   Switzerland|     1|\n",
      "|   Netherlands|     1|\n",
      "|      Cameroon|     0|\n",
      "+--------------+------+\n",
      "only showing top 20 rows\n",
      "\n"
     ]
    }
   ],
   "source": [
    "covid070320.groupBy($\"Country/Region\").agg(sum(\"Deaths\").as(\"Deaths\")).sort(desc(\"Deaths\")).show()"
   ]
  },
  {
   "cell_type": "code",
   "execution_count": 20,
   "metadata": {},
   "outputs": [
    {
     "name": "stdout",
     "output_type": "stream",
     "text": [
      "+--------------+------+---------+\n",
      "|Country/Region|Deaths|Confirmed|\n",
      "+--------------+------+---------+\n",
      "|Mainland China|  3070|    80652|\n",
      "|         Italy|   233|     5883|\n",
      "|          Iran|   145|     5823|\n",
      "|   South Korea|    44|     7041|\n",
      "|            US|    17|      417|\n",
      "|        France|    11|      949|\n",
      "|         Spain|    10|      500|\n",
      "|         Japan|     6|      461|\n",
      "|        Others|     6|      696|\n",
      "|          Iraq|     4|       54|\n",
      "|            UK|     2|      206|\n",
      "|     Australia|     2|       63|\n",
      "|     Hong Kong|     2|      108|\n",
      "|   Philippines|     1|        6|\n",
      "|   Switzerland|     1|      268|\n",
      "|      Thailand|     1|       50|\n",
      "|        Taiwan|     1|       45|\n",
      "|    San Marino|     1|       23|\n",
      "|   Netherlands|     1|      188|\n",
      "|        Bhutan|     0|        1|\n",
      "+--------------+------+---------+\n",
      "only showing top 20 rows\n",
      "\n"
     ]
    }
   ],
   "source": [
    "covid070320.groupBy($\"Country/Region\")\n",
    "    .agg(\n",
    "        sum(\"Deaths\").as(\"Deaths\"),\n",
    "        sum(\"Confirmed\").as(\"Confirmed\")\n",
    "    )\n",
    "    .sort(desc(\"Deaths\")).show()"
   ]
  },
  {
   "cell_type": "code",
   "execution_count": 24,
   "metadata": {},
   "outputs": [
    {
     "name": "stdout",
     "output_type": "stream",
     "text": [
      "+--------------+------+---------+------------------+\n",
      "|Country/Region|Deaths|Confirmed|          fatality|\n",
      "+--------------+------+---------+------------------+\n",
      "|Mainland China|  3070|    80652|3.8064772107325298|\n",
      "|         Italy|   233|     5883|3.9605643379228286|\n",
      "|          Iran|   145|     5823|2.4901253649321657|\n",
      "|   South Korea|    44|     7041|0.6249112341996875|\n",
      "|            US|    17|      417|  4.07673860911271|\n",
      "|        France|    11|      949|1.1591148577449948|\n",
      "|         Spain|    10|      500|               2.0|\n",
      "|         Japan|     6|      461|1.3015184381778742|\n",
      "|        Others|     6|      696|0.8620689655172413|\n",
      "|          Iraq|     4|       54| 7.407407407407407|\n",
      "|     Hong Kong|     2|      108|1.8518518518518519|\n",
      "|     Australia|     2|       63|3.1746031746031744|\n",
      "|            UK|     2|      206| 0.970873786407767|\n",
      "|   Netherlands|     1|      188|0.5319148936170213|\n",
      "|    San Marino|     1|       23|4.3478260869565215|\n",
      "|        Taiwan|     1|       45|2.2222222222222223|\n",
      "|      Thailand|     1|       50|               2.0|\n",
      "|   Philippines|     1|        6|16.666666666666668|\n",
      "|   Switzerland|     1|      268| 0.373134328358209|\n",
      "|         Chile|     0|        4|               0.0|\n",
      "+--------------+------+---------+------------------+\n",
      "only showing top 20 rows\n",
      "\n"
     ]
    }
   ],
   "source": [
    "covid070320.groupBy($\"Country/Region\")\n",
    "    .agg(\n",
    "        sum(\"Deaths\").as(\"Deaths\"),\n",
    "        sum(\"Confirmed\").as(\"Confirmed\")\n",
    "    )\n",
    "    .withColumn(\"fatality\", $\"Deaths\" * 100 / $\"Confirmed\")\n",
    "    .sort(desc(\"Deaths\")).show()"
   ]
  },
  {
   "cell_type": "code",
   "execution_count": 23,
   "metadata": {},
   "outputs": [
    {
     "name": "stdout",
     "output_type": "stream",
     "text": [
      "+--------------+------+---------+--------+\n",
      "|Country/Region|Deaths|Confirmed|fatality|\n",
      "+--------------+------+---------+--------+\n",
      "|Mainland China|  3070|    80652|    3.81|\n",
      "|         Italy|   233|     5883|    3.96|\n",
      "|          Iran|   145|     5823|    2.49|\n",
      "|   South Korea|    44|     7041|    0.62|\n",
      "|            US|    17|      417|    4.08|\n",
      "|        France|    11|      949|    1.16|\n",
      "|         Spain|    10|      500|    2.00|\n",
      "|        Others|     6|      696|    0.86|\n",
      "|         Japan|     6|      461|    1.30|\n",
      "|          Iraq|     4|       54|    7.41|\n",
      "|     Australia|     2|       63|    3.17|\n",
      "|     Hong Kong|     2|      108|    1.85|\n",
      "|            UK|     2|      206|    0.97|\n",
      "|    San Marino|     1|       23|    4.35|\n",
      "|   Switzerland|     1|      268|    0.37|\n",
      "|      Thailand|     1|       50|    2.00|\n",
      "|   Netherlands|     1|      188|    0.53|\n",
      "|        Taiwan|     1|       45|    2.22|\n",
      "|   Philippines|     1|        6|   16.67|\n",
      "|          Oman|     0|       16|    0.00|\n",
      "+--------------+------+---------+--------+\n",
      "only showing top 20 rows\n",
      "\n"
     ]
    }
   ],
   "source": [
    "import org.apache.spark.sql.functions.format_number\n",
    "covid070320.groupBy($\"Country/Region\")\n",
    "    .agg(\n",
    "        sum(\"Deaths\").as(\"Deaths\"),\n",
    "        sum(\"Confirmed\").as(\"Confirmed\")\n",
    "    )\n",
    "    .withColumn(\"fatality\", format_number($\"Deaths\" * 100 / $\"Confirmed\", 2))\n",
    "    .sort(desc(\"Deaths\")).show()"
   ]
  },
  {
   "cell_type": "code",
   "execution_count": null,
   "metadata": {},
   "outputs": [],
   "source": []
  }
 ],
 "metadata": {
  "kernelspec": {
   "display_name": "Apache Toree - Scala",
   "language": "scala",
   "name": "apache_toree_scala"
  },
  "language_info": {
   "codemirror_mode": "text/x-scala",
   "file_extension": ".scala",
   "mimetype": "text/x-scala",
   "name": "scala",
   "pygments_lexer": "scala",
   "version": "2.11.12"
  }
 },
 "nbformat": 4,
 "nbformat_minor": 4
}
