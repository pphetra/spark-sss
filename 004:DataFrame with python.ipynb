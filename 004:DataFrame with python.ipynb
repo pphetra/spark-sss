{
 "cells": [
  {
   "cell_type": "code",
   "execution_count": 1,
   "metadata": {},
   "outputs": [],
   "source": [
    "from pyspark.sql import SparkSession\n",
    "from pyspark.sql.types import *"
   ]
  },
  {
   "cell_type": "code",
   "execution_count": 3,
   "metadata": {},
   "outputs": [],
   "source": [
    "spark = SparkSession.builder.getOrCreate()"
   ]
  },
  {
   "cell_type": "code",
   "execution_count": 6,
   "metadata": {},
   "outputs": [],
   "source": [
    "visits = spark.read.json('visit.json')"
   ]
  },
  {
   "cell_type": "code",
   "execution_count": 7,
   "metadata": {},
   "outputs": [
    {
     "name": "stdout",
     "output_type": "stream",
     "text": [
      "+-------------------+------+-----+------------+-----------+\n",
      "|               date|gender|icd10|patient_type|subdistrict|\n",
      "+-------------------+------+-----+------------+-----------+\n",
      "|2020-03-12T00:00:00|     F|C01.2|         OPD|      92001|\n",
      "|2020-03-11T00:00:00|     M|C01.2|         IPD|      92003|\n",
      "|2020-03-03T00:00:00|     M|C01.2|         IPD|      92002|\n",
      "|2020-03-14T00:00:00|     F|A01.1|         IPD|      92001|\n",
      "|2020-03-01T00:00:00|     M|B01.3|         OPD|      92001|\n",
      "|2020-03-02T00:00:00|     M|C01.2|         OPD|      92001|\n",
      "|2020-03-14T00:00:00|     M|C01.2|         IPD|      92003|\n",
      "|2020-03-16T00:00:00|     F|B01.3|         IPD|      92001|\n",
      "|2020-03-11T00:00:00|     F|C01.2|         OPD|      92002|\n",
      "|2020-03-12T00:00:00|     F|B01.3|         IPD|      92001|\n",
      "|2020-03-04T00:00:00|     M|A01.1|         OPD|      92003|\n",
      "|2020-03-14T00:00:00|     F|C01.2|         OPD|      92002|\n",
      "|2020-03-02T00:00:00|     F|C01.2|         IPD|      92003|\n",
      "|2020-03-03T00:00:00|     F|C01.2|         OPD|      92003|\n",
      "|2020-03-16T00:00:00|     F|C01.2|         IPD|      92001|\n",
      "|2020-03-15T00:00:00|     F|A01.1|         IPD|      92001|\n",
      "|2020-03-16T00:00:00|     F|B01.3|         IPD|      92003|\n",
      "|2020-03-13T00:00:00|     M|C01.2|         OPD|      92002|\n",
      "|2020-03-05T00:00:00|     F|A01.1|         IPD|      92001|\n",
      "+-------------------+------+-----+------------+-----------+\n",
      "\n"
     ]
    }
   ],
   "source": [
    "visits.show()"
   ]
  },
  {
   "cell_type": "code",
   "execution_count": 9,
   "metadata": {},
   "outputs": [
    {
     "data": {
      "text/plain": [
       "pyspark.sql.dataframe.DataFrame"
      ]
     },
     "execution_count": 9,
     "metadata": {},
     "output_type": "execute_result"
    }
   ],
   "source": [
    "type(visits)"
   ]
  },
  {
   "cell_type": "code",
   "execution_count": 16,
   "metadata": {
    "scrolled": true
   },
   "outputs": [
    {
     "name": "stdout",
     "output_type": "stream",
     "text": [
      "+-------------------+------+-----+------------+-----------+---+\n",
      "|               date|gender|icd10|patient_type|subdistrict|flu|\n",
      "+-------------------+------+-----+------------+-----------+---+\n",
      "|2020-03-12T00:00:00|     F|C01.2|         OPD|      92001|  0|\n",
      "|2020-03-11T00:00:00|     M|C01.2|         IPD|      92003|  0|\n",
      "|2020-03-03T00:00:00|     M|C01.2|         IPD|      92002|  0|\n",
      "|2020-03-14T00:00:00|     F|A01.1|         IPD|      92001|  0|\n",
      "|2020-03-01T00:00:00|     M|B01.3|         OPD|      92001|  1|\n",
      "|2020-03-02T00:00:00|     M|C01.2|         OPD|      92001|  0|\n",
      "|2020-03-14T00:00:00|     M|C01.2|         IPD|      92003|  0|\n",
      "|2020-03-16T00:00:00|     F|B01.3|         IPD|      92001|  1|\n",
      "|2020-03-11T00:00:00|     F|C01.2|         OPD|      92002|  0|\n",
      "|2020-03-12T00:00:00|     F|B01.3|         IPD|      92001|  1|\n",
      "|2020-03-04T00:00:00|     M|A01.1|         OPD|      92003|  0|\n",
      "|2020-03-14T00:00:00|     F|C01.2|         OPD|      92002|  0|\n",
      "|2020-03-02T00:00:00|     F|C01.2|         IPD|      92003|  0|\n",
      "|2020-03-03T00:00:00|     F|C01.2|         OPD|      92003|  0|\n",
      "|2020-03-16T00:00:00|     F|C01.2|         IPD|      92001|  0|\n",
      "|2020-03-15T00:00:00|     F|A01.1|         IPD|      92001|  0|\n",
      "|2020-03-16T00:00:00|     F|B01.3|         IPD|      92003|  1|\n",
      "|2020-03-13T00:00:00|     M|C01.2|         OPD|      92002|  0|\n",
      "|2020-03-05T00:00:00|     F|A01.1|         IPD|      92001|  0|\n",
      "+-------------------+------+-----+------------+-----------+---+\n",
      "\n"
     ]
    }
   ],
   "source": [
    "# transform column with spark udf\n",
    "# using .withcolumn\n",
    "# read more from https://towardsdatascience.com/5-ways-to-add-a-new-column-in-a-pyspark-dataframe-4e75c2fd8c08\n",
    "\n",
    "import pyspark.sql.functions as F\n",
    "from pyspark.sql.types import *\n",
    "\n",
    "def flu(icd10):\n",
    "    if (icd10 == 'B01.3'):\n",
    "        return 1\n",
    "    else:\n",
    "        return 0\n",
    "\n",
    "fluFn = F.udf(flu, IntegerType())\n",
    "\n",
    "visits.withColumn(\"flu\", fluFn(\"icd10\")).show()"
   ]
  },
  {
   "cell_type": "code",
   "execution_count": 22,
   "metadata": {},
   "outputs": [
    {
     "name": "stdout",
     "output_type": "stream",
     "text": [
      "+----------+------+-----+------------+-----------+\n",
      "|      date|gender|icd10|patient_type|subdistrict|\n",
      "+----------+------+-----+------------+-----------+\n",
      "|2020-03-12|     F|C01.2|         OPD|      92001|\n",
      "|2020-03-11|     M|C01.2|         IPD|      92003|\n",
      "|2020-03-03|     M|C01.2|         IPD|      92002|\n",
      "|2020-03-14|     F|A01.1|         IPD|      92001|\n",
      "|2020-03-01|     M|B01.3|         OPD|      92001|\n",
      "|2020-03-02|     M|C01.2|         OPD|      92001|\n",
      "|2020-03-14|     M|C01.2|         IPD|      92003|\n",
      "|2020-03-16|     F|B01.3|         IPD|      92001|\n",
      "|2020-03-11|     F|C01.2|         OPD|      92002|\n",
      "|2020-03-12|     F|B01.3|         IPD|      92001|\n",
      "|2020-03-04|     M|A01.1|         OPD|      92003|\n",
      "|2020-03-14|     F|C01.2|         OPD|      92002|\n",
      "|2020-03-02|     F|C01.2|         IPD|      92003|\n",
      "|2020-03-03|     F|C01.2|         OPD|      92003|\n",
      "|2020-03-16|     F|C01.2|         IPD|      92001|\n",
      "|2020-03-15|     F|A01.1|         IPD|      92001|\n",
      "|2020-03-16|     F|B01.3|         IPD|      92003|\n",
      "|2020-03-13|     M|C01.2|         OPD|      92002|\n",
      "|2020-03-05|     F|A01.1|         IPD|      92001|\n",
      "+----------+------+-----+------------+-----------+\n",
      "\n"
     ]
    }
   ],
   "source": [
    "# transform date column from string to datetime\n",
    "# read more on https://stackoverflow.com/questions/38080748/convert-pyspark-string-to-date-format\n",
    "\n",
    "import dateutil.parser\n",
    "\n",
    "def dt(d):\n",
    "    return dateutil.parser.parse(d)\n",
    "\n",
    "dtFn = F.udf(dt, DateType())\n",
    "visits.withColumn(\"date\", dtFn(\"date\")).show()"
   ]
  },
  {
   "cell_type": "code",
   "execution_count": null,
   "metadata": {},
   "outputs": [],
   "source": []
  }
 ],
 "metadata": {
  "kernelspec": {
   "display_name": "Python 3",
   "language": "python",
   "name": "python3"
  },
  "language_info": {
   "codemirror_mode": {
    "name": "ipython",
    "version": 3
   },
   "file_extension": ".py",
   "mimetype": "text/x-python",
   "name": "python",
   "nbconvert_exporter": "python",
   "pygments_lexer": "ipython3",
   "version": "3.7.5"
  }
 },
 "nbformat": 4,
 "nbformat_minor": 4
}
