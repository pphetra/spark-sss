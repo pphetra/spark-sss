{
 "cells": [
  {
   "cell_type": "code",
   "execution_count": 3,
   "metadata": {},
   "outputs": [],
   "source": [
    "from random import choice\n",
    "from datetime import datetime\n"
   ]
  },
  {
   "cell_type": "code",
   "execution_count": 4,
   "metadata": {},
   "outputs": [],
   "source": [
    "def gender():\n",
    "    return choice(['M', 'F'])"
   ]
  },
  {
   "cell_type": "code",
   "execution_count": 5,
   "metadata": {},
   "outputs": [],
   "source": [
    "def icd10():\n",
    "    return choice(['A01.1', 'B01.3', 'C01.2'])"
   ]
  },
  {
   "cell_type": "code",
   "execution_count": 6,
   "metadata": {},
   "outputs": [],
   "source": [
    "def patient_type():\n",
    "    return choice(['IPD', 'OPD'])"
   ]
  },
  {
   "cell_type": "code",
   "execution_count": 7,
   "metadata": {},
   "outputs": [],
   "source": [
    "def subdistrict():\n",
    "    return choice(['92001', '92002', '92003'])"
   ]
  },
  {
   "cell_type": "code",
   "execution_count": 8,
   "metadata": {},
   "outputs": [],
   "source": [
    "def date():\n",
    "    return datetime(2020, 3, choice(range(1, 20)))"
   ]
  },
  {
   "cell_type": "code",
   "execution_count": 20,
   "metadata": {},
   "outputs": [],
   "source": [
    "import csv\n",
    "def generate_csv(count = 20):\n",
    "    with open('visit.csv', 'w', newline='') as file:\n",
    "        writer = csv.writer(file)\n",
    "        for i in range(1, count):\n",
    "            writer.writerow([\n",
    "                date().isoformat(),\n",
    "                gender(),\n",
    "                icd10(),\n",
    "                patient_type(),\n",
    "                subdistrict()\n",
    "            ])\n",
    "            "
   ]
  },
  {
   "cell_type": "code",
   "execution_count": 21,
   "metadata": {},
   "outputs": [],
   "source": [
    "generate_csv()"
   ]
  },
  {
   "cell_type": "code",
   "execution_count": 1,
   "metadata": {},
   "outputs": [],
   "source": [
    "import json\n",
    "def generate_json(count = 20):\n",
    "    with open('visit.json', 'w', newline='\\n') as file:\n",
    "        for i in range(1, count):\n",
    "            file.write(json.dumps({\n",
    "                'date': date().isoformat(),\n",
    "                'gender': gender(),\n",
    "                'icd10': icd10(),\n",
    "                'patient_type': patient_type(),\n",
    "                'subdistrict': subdistrict()\n",
    "            }))"
   ]
  },
  {
   "cell_type": "code",
   "execution_count": 9,
   "metadata": {},
   "outputs": [],
   "source": [
    "generate_json()"
   ]
  },
  {
   "cell_type": "code",
   "execution_count": null,
   "metadata": {},
   "outputs": [],
   "source": [
    "import socket\n",
    "import time\n",
    "\n",
    "with socket.socket(socket.AF_INET, socket.SOCK_STREAM) as s:\n",
    "    s.bind('127.0.0.1', 9876)\n",
    "    s.listen()\n",
    "    conn, addr = s.accept()\n",
    "    with conn:\n",
    "        print('connect by', addr)\n",
    "        while True:\n",
    "            data = json.dumps({\n",
    "                'date': date().isoformat(),\n",
    "                'gender': gender(),\n",
    "                'icd10': icd10(),\n",
    "                'patient_type': patient_type(),\n",
    "                'subdistrict': subdistrict()\n",
    "            })\n",
    "            conn.sendall(data)\n",
    "            time.sleep(1)\n",
    "                 "
   ]
  }
 ],
 "metadata": {
  "kernelspec": {
   "display_name": "Python 3",
   "language": "python",
   "name": "python3"
  },
  "language_info": {
   "codemirror_mode": {
    "name": "ipython",
    "version": 3
   },
   "file_extension": ".py",
   "mimetype": "text/x-python",
   "name": "python",
   "nbconvert_exporter": "python",
   "pygments_lexer": "ipython3",
   "version": "3.7.5"
  }
 },
 "nbformat": 4,
 "nbformat_minor": 4
}
