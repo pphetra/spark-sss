{
 "cells": [
  {
   "cell_type": "code",
   "execution_count": 1,
   "metadata": {},
   "outputs": [
    {
     "data": {
      "text/plain": [
       "rowVisits = [date: string, gender: string ... 3 more fields]\n"
      ]
     },
     "metadata": {},
     "output_type": "display_data"
    },
    {
     "data": {
      "text/plain": [
       "[date: string, gender: string ... 3 more fields]"
      ]
     },
     "execution_count": 1,
     "metadata": {},
     "output_type": "execute_result"
    }
   ],
   "source": [
    "val visits = spark.read.json(\"visit.json\")"
   ]
  },
  {
   "cell_type": "code",
   "execution_count": 2,
   "metadata": {},
   "outputs": [
    {
     "name": "stdout",
     "output_type": "stream",
     "text": [
      "root\n",
      " |-- date: string (nullable = true)\n",
      " |-- gender: string (nullable = true)\n",
      " |-- icd10: string (nullable = true)\n",
      " |-- patient_type: string (nullable = true)\n",
      " |-- subdistrict: string (nullable = true)\n",
      "\n"
     ]
    }
   ],
   "source": [
    "visits.printSchema()"
   ]
  },
  {
   "cell_type": "code",
   "execution_count": 4,
   "metadata": {},
   "outputs": [
    {
     "data": {
      "text/plain": [
       "19"
      ]
     },
     "execution_count": 4,
     "metadata": {},
     "output_type": "execute_result"
    }
   ],
   "source": [
    "visits.count"
   ]
  },
  {
   "cell_type": "code",
   "execution_count": 5,
   "metadata": {
    "scrolled": true
   },
   "outputs": [
    {
     "name": "stdout",
     "output_type": "stream",
     "text": [
      "+-------------------+------+-----+------------+-----------+\n",
      "|               date|gender|icd10|patient_type|subdistrict|\n",
      "+-------------------+------+-----+------------+-----------+\n",
      "|2020-03-12T00:00:00|     F|C01.2|         OPD|      92001|\n",
      "|2020-03-11T00:00:00|     M|C01.2|         IPD|      92003|\n",
      "|2020-03-03T00:00:00|     M|C01.2|         IPD|      92002|\n",
      "|2020-03-14T00:00:00|     F|A01.1|         IPD|      92001|\n",
      "|2020-03-01T00:00:00|     M|B01.3|         OPD|      92001|\n",
      "|2020-03-02T00:00:00|     M|C01.2|         OPD|      92001|\n",
      "|2020-03-14T00:00:00|     M|C01.2|         IPD|      92003|\n",
      "|2020-03-16T00:00:00|     F|B01.3|         IPD|      92001|\n",
      "|2020-03-11T00:00:00|     F|C01.2|         OPD|      92002|\n",
      "|2020-03-12T00:00:00|     F|B01.3|         IPD|      92001|\n",
      "|2020-03-04T00:00:00|     M|A01.1|         OPD|      92003|\n",
      "|2020-03-14T00:00:00|     F|C01.2|         OPD|      92002|\n",
      "|2020-03-02T00:00:00|     F|C01.2|         IPD|      92003|\n",
      "|2020-03-03T00:00:00|     F|C01.2|         OPD|      92003|\n",
      "|2020-03-16T00:00:00|     F|C01.2|         IPD|      92001|\n",
      "|2020-03-15T00:00:00|     F|A01.1|         IPD|      92001|\n",
      "|2020-03-16T00:00:00|     F|B01.3|         IPD|      92003|\n",
      "|2020-03-13T00:00:00|     M|C01.2|         OPD|      92002|\n",
      "|2020-03-05T00:00:00|     F|A01.1|         IPD|      92001|\n",
      "+-------------------+------+-----+------------+-----------+\n",
      "\n"
     ]
    }
   ],
   "source": [
    "visits.show()"
   ]
  },
  {
   "cell_type": "code",
   "execution_count": 6,
   "metadata": {
    "scrolled": true
   },
   "outputs": [
    {
     "name": "stdout",
     "output_type": "stream",
     "text": [
      "+-------------------+-----------+\n",
      "|               date|subdistrict|\n",
      "+-------------------+-----------+\n",
      "|2020-03-12T00:00:00|      92001|\n",
      "|2020-03-11T00:00:00|      92003|\n",
      "|2020-03-03T00:00:00|      92002|\n",
      "|2020-03-14T00:00:00|      92001|\n",
      "|2020-03-01T00:00:00|      92001|\n",
      "|2020-03-02T00:00:00|      92001|\n",
      "|2020-03-14T00:00:00|      92003|\n",
      "|2020-03-16T00:00:00|      92001|\n",
      "|2020-03-11T00:00:00|      92002|\n",
      "|2020-03-12T00:00:00|      92001|\n",
      "|2020-03-04T00:00:00|      92003|\n",
      "|2020-03-14T00:00:00|      92002|\n",
      "|2020-03-02T00:00:00|      92003|\n",
      "|2020-03-03T00:00:00|      92003|\n",
      "|2020-03-16T00:00:00|      92001|\n",
      "|2020-03-15T00:00:00|      92001|\n",
      "|2020-03-16T00:00:00|      92003|\n",
      "|2020-03-13T00:00:00|      92002|\n",
      "|2020-03-05T00:00:00|      92001|\n",
      "+-------------------+-----------+\n",
      "\n"
     ]
    }
   ],
   "source": [
    "visits.select($\"date\", $\"subdistrict\").show()"
   ]
  },
  {
   "cell_type": "code",
   "execution_count": 7,
   "metadata": {},
   "outputs": [
    {
     "name": "stdout",
     "output_type": "stream",
     "text": [
      "+-------------------+-----------+---+----+---------+---+---+---+\n",
      "|               date|subdistrict|flu|SARI|pneumonia|ILI|IPD|OPD|\n",
      "+-------------------+-----------+---+----+---------+---+---+---+\n",
      "|2020-03-12T00:00:00|      92001|  1|   0|        0|  1|  0|  1|\n",
      "|2020-03-11T00:00:00|      92003|  1|   0|        0|  1|  1|  0|\n",
      "|2020-03-03T00:00:00|      92002|  1|   0|        0|  1|  1|  0|\n",
      "|2020-03-14T00:00:00|      92001|  0|   0|        1|  1|  1|  0|\n",
      "|2020-03-01T00:00:00|      92001|  0|   1|        0|  0|  0|  1|\n",
      "|2020-03-02T00:00:00|      92001|  1|   0|        0|  1|  0|  1|\n",
      "|2020-03-14T00:00:00|      92003|  1|   0|        0|  1|  1|  0|\n",
      "|2020-03-16T00:00:00|      92001|  0|   1|        0|  0|  1|  0|\n",
      "|2020-03-11T00:00:00|      92002|  1|   0|        0|  1|  0|  1|\n",
      "|2020-03-12T00:00:00|      92001|  0|   1|        0|  0|  1|  0|\n",
      "|2020-03-04T00:00:00|      92003|  0|   0|        1|  1|  0|  1|\n",
      "|2020-03-14T00:00:00|      92002|  1|   0|        0|  1|  0|  1|\n",
      "|2020-03-02T00:00:00|      92003|  1|   0|        0|  1|  1|  0|\n",
      "|2020-03-03T00:00:00|      92003|  1|   0|        0|  1|  0|  1|\n",
      "|2020-03-16T00:00:00|      92001|  1|   0|        0|  1|  1|  0|\n",
      "|2020-03-15T00:00:00|      92001|  0|   0|        1|  1|  1|  0|\n",
      "|2020-03-16T00:00:00|      92003|  0|   1|        0|  0|  1|  0|\n",
      "|2020-03-13T00:00:00|      92002|  1|   0|        0|  1|  0|  1|\n",
      "|2020-03-05T00:00:00|      92001|  0|   0|        1|  1|  1|  0|\n",
      "+-------------------+-----------+---+----+---------+---+---+---+\n",
      "\n"
     ]
    },
    {
     "data": {
      "text/plain": [
       "ili = UserDefinedFunction(<function1>,IntegerType,Some(List(StringType)))\n",
       "cases = [date: string, subdistrict: string ... 6 more fields]\n"
      ]
     },
     "metadata": {},
     "output_type": "display_data"
    },
    {
     "data": {
      "text/plain": [
       "[date: string, subdistrict: string ... 6 more fields]"
      ]
     },
     "execution_count": 7,
     "metadata": {},
     "output_type": "execute_result"
    }
   ],
   "source": [
    "\n",
    "import org.apache.spark.sql.functions._ // for `when`and `udf`\n",
    "\n",
    "val ili = udf((s:String) => {\n",
    "    if (s == \"A01.1\" || s == \"C01.2\") 1 else 0\n",
    "})\n",
    "\n",
    "val cases = visits.withColumn(\"flu\", when($\"icd10\" === \"C01.2\", 1).otherwise(0))\n",
    "    .withColumn(\"SARI\", when($\"icd10\" === \"B01.3\", 1).otherwise(0))\n",
    "    .withColumn(\"pneumonia\", when($\"icd10\" === \"A01.1\", 1).otherwise(0))\n",
    "    .withColumn(\"ILI\", ili($\"icd10\"))\n",
    "    .withColumn(\"IPD\", when($\"patient_type\" === \"IPD\", 1).otherwise(0))\n",
    "    .withColumn(\"OPD\", when($\"patient_type\" === \"OPD\", 1).otherwise(0))\n",
    "    .select($\"date\", $\"subdistrict\", $\"flu\", $\"SARI\", $\"pneumonia\", $\"ILI\", $\"IPD\", $\"OPD\")\n",
    "\n",
    "cases.show()\n",
    "    "
   ]
  },
  {
   "cell_type": "code",
   "execution_count": 8,
   "metadata": {
    "scrolled": false
   },
   "outputs": [
    {
     "name": "stdout",
     "output_type": "stream",
     "text": [
      "+-------------------+-----------+---+---+----+---------+---+---+\n",
      "|               date|subdistrict|flu|ILI|SARI|pneumonia|IPD|OPD|\n",
      "+-------------------+-----------+---+---+----+---------+---+---+\n",
      "|2020-03-01T00:00:00|      92001|  0|  0|   1|        0|  0|  1|\n",
      "|2020-03-02T00:00:00|      92001|  1|  1|   0|        0|  0|  1|\n",
      "|2020-03-02T00:00:00|      92003|  1|  1|   0|        0|  1|  0|\n",
      "|2020-03-03T00:00:00|      92003|  1|  1|   0|        0|  0|  1|\n",
      "|2020-03-03T00:00:00|      92002|  1|  1|   0|        0|  1|  0|\n",
      "|2020-03-04T00:00:00|      92003|  0|  1|   0|        1|  0|  1|\n",
      "|2020-03-05T00:00:00|      92001|  0|  1|   0|        1|  1|  0|\n",
      "|2020-03-11T00:00:00|      92002|  1|  1|   0|        0|  0|  1|\n",
      "|2020-03-11T00:00:00|      92003|  1|  1|   0|        0|  1|  0|\n",
      "|2020-03-12T00:00:00|      92001|  1|  1|   1|        0|  1|  1|\n",
      "|2020-03-13T00:00:00|      92002|  1|  1|   0|        0|  0|  1|\n",
      "|2020-03-14T00:00:00|      92003|  1|  1|   0|        0|  1|  0|\n",
      "|2020-03-14T00:00:00|      92002|  1|  1|   0|        0|  0|  1|\n",
      "|2020-03-14T00:00:00|      92001|  0|  1|   0|        1|  1|  0|\n",
      "|2020-03-15T00:00:00|      92001|  0|  1|   0|        1|  1|  0|\n",
      "|2020-03-16T00:00:00|      92001|  1|  1|   1|        0|  2|  0|\n",
      "|2020-03-16T00:00:00|      92003|  0|  0|   1|        0|  1|  0|\n",
      "+-------------------+-----------+---+---+----+---------+---+---+\n",
      "\n"
     ]
    }
   ],
   "source": [
    "cases.groupBy($\"date\", $\"subdistrict\")\n",
    "    .agg(sum($\"flu\") as \"flu\"\n",
    "         ,sum($\"ILI\") as \"ILI\"\n",
    "         ,sum($\"SARI\") as \"SARI\"\n",
    "         ,sum($\"pneumonia\") as \"pneumonia\"\n",
    "         ,sum($\"IPD\") as \"IPD\"\n",
    "         ,sum($\"OPD\") as \"OPD\"\n",
    "        )\n",
    ".orderBy(asc(\"date\"))\n",
    ".show()"
   ]
  },
  {
   "cell_type": "code",
   "execution_count": 9,
   "metadata": {},
   "outputs": [
    {
     "name": "stdout",
     "output_type": "stream",
     "text": [
      "+-----------+---+---+----+---------+---+---+\n",
      "|subdistrict|flu|ILI|SARI|pneumonia|IPD|OPD|\n",
      "+-----------+---+---+----+---------+---+---+\n",
      "|      92001|  3|  6|   3|        3|  6|  3|\n",
      "|      92002|  4|  4|   0|        0|  1|  3|\n",
      "|      92003|  4|  5|   1|        1|  4|  2|\n",
      "+-----------+---+---+----+---------+---+---+\n",
      "\n"
     ]
    }
   ],
   "source": [
    "cases.groupBy($\"subdistrict\")\n",
    "    .agg(sum($\"flu\") as \"flu\"\n",
    "         ,sum($\"ILI\") as \"ILI\"\n",
    "         ,sum($\"SARI\") as \"SARI\"\n",
    "         ,sum($\"pneumonia\") as \"pneumonia\"\n",
    "         ,sum($\"IPD\") as \"IPD\"\n",
    "         ,sum($\"OPD\") as \"OPD\"\n",
    "        )\n",
    ".orderBy(asc(\"subdistrict\"))\n",
    ".show()"
   ]
  },
  {
   "cell_type": "code",
   "execution_count": null,
   "metadata": {},
   "outputs": [],
   "source": []
  }
 ],
 "metadata": {
  "kernelspec": {
   "display_name": "Apache Toree - Scala",
   "language": "scala",
   "name": "apache_toree_scala"
  },
  "language_info": {
   "codemirror_mode": "text/x-scala",
   "file_extension": ".scala",
   "mimetype": "text/x-scala",
   "name": "scala",
   "pygments_lexer": "scala",
   "version": "2.11.12"
  }
 },
 "nbformat": 4,
 "nbformat_minor": 4
}
