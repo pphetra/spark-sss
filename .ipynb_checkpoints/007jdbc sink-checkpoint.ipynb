{
 "cells": [
  {
   "cell_type": "code",
   "execution_count": null,
   "metadata": {},
   "outputs": [],
   "source": [
    "val source = spark.readStream\n",
    "    .format(\"socket\")\n",
    "    .option(\"host\", \"127.0.0.1\")\n",
    "    .option(\"port\", 9876)\n",
    "    .load()"
   ]
  },
  {
   "cell_type": "code",
   "execution_count": null,
   "metadata": {},
   "outputs": [],
   "source": [
    "// read more at this url\n",
    "// https://docs.databricks.com/spark/latest/dataframes-datasets/complex-nested-data.html#complex-nested-data-notebook\n",
    "\n",
    "import org.apache.spark.sql.types._                         // include the Spark Types to define our schema\n",
    "import org.apache.spark.sql.functions._                     // include the Spark helper functions\n",
    "\n",
    "val jsonSchema = new StructType()\n",
    "        .add(\"date\", StringType)\n",
    "        .add(\"gender\", StringType)\n",
    "        .add(\"icd10\",StringType)\n",
    "        .add(\"patient_type\", StringType)\n",
    "        .add(\"subdistrict\", StringType)"
   ]
  },
  {
   "cell_type": "code",
   "execution_count": null,
   "metadata": {},
   "outputs": [],
   "source": [
    "val visits = source.select(from_json($\"value\", jsonSchema) as \"data\")\n",
    "    .select($\"data.*\")"
   ]
  },
  {
   "cell_type": "code",
   "execution_count": null,
   "metadata": {},
   "outputs": [],
   "source": [
    "import org.apache.spark.sql.functions._ // for `when`and `udf`\n",
    "\n",
    "val ili = udf((s:String) => {\n",
    "    if (s == \"A01.1\" || s == \"C01.2\") 1 else 0\n",
    "})\n",
    "\n",
    "val cases = visits.withColumn(\"flu\", when($\"icd10\" === \"C01.2\", 1).otherwise(0))\n",
    "    .withColumn(\"SARI\", when($\"icd10\" === \"B01.3\", 1).otherwise(0))\n",
    "    .withColumn(\"pneumonia\", when($\"icd10\" === \"A01.1\", 1).otherwise(0))\n",
    "    .withColumn(\"ILI\", ili($\"icd10\"))\n",
    "    .withColumn(\"IPD\", when($\"patient_type\" === \"IPD\", 1).otherwise(0))\n",
    "    .withColumn(\"OPD\", when($\"patient_type\" === \"OPD\", 1).otherwise(0))\n",
    "    .select($\"date\", $\"subdistrict\", $\"flu\", $\"SARI\", $\"pneumonia\", $\"ILI\", $\"IPD\", $\"OPD\")\n",
    "\n",
    "\n",
    "val summary = cases.groupBy($\"subdistrict\")\n",
    "    .agg(sum($\"flu\") as \"flu\"\n",
    "         ,sum($\"ILI\") as \"ILI\"\n",
    "         ,sum($\"SARI\") as \"SARI\"\n",
    "         ,sum($\"pneumonia\") as \"pneumonia\"\n",
    "         ,sum($\"IPD\") as \"IPD\"\n",
    "         ,sum($\"OPD\") as \"OPD\"\n",
    "        )\n",
    ".orderBy(asc(\"subdistrict\"))"
   ]
  },
  {
   "cell_type": "code",
   "execution_count": null,
   "metadata": {},
   "outputs": [],
   "source": [
    "\n",
    "class JDBCSink(url: String, user:String, pwd:String) extends org.apache.spark.sql.ForeachWriter[org.apache.spark.sql.Row]{\n",
    "    val driver = \"org.postgresql.Driver\"\n",
    "    var connection:java.sql.Connection = _\n",
    "    var statement:java.sql.Statement = _\n",
    "\n",
    "    def open(partitionId: Long, version: Long):Boolean = {\n",
    "        Class.forName(driver)\n",
    "        connection = java.sql.DriverManager.getConnection(url, user, pwd)\n",
    "        statement = connection.createStatement\n",
    "        true\n",
    "    }\n",
    "\n",
    "    def process(value: org.apache.spark.sql.Row): Unit = {        \n",
    "    statement.executeUpdate(\"INSERT INTO public.test(subdistrict, flu, ili, sari, pneumonia, ipd, opd) \" +\n",
    "                             \"VALUES ('\" + value(0) + \"',\" \n",
    "                            + value(1) + \",\" \n",
    "                            + value(2) + \",\" \n",
    "                            + value(3) + \",\" \n",
    "                            + value(4) + \",\" \n",
    "                            + value(5) + \",\" \n",
    "                            + value(6)+ \")\" \n",
    "                            + \"on conflict (subdistrict) do \"\n",
    "                            + \"update \" \n",
    "                            + \"set flu = EXCLUDED.flu\" \n",
    "                            + \" ,ili = EXCLUDED.ili\"\n",
    "                            + \" ,sari = EXCLUDED.sari\"\n",
    "                            + \" ,pneumonia = EXCLUDED.pneumonia\"\n",
    "                            + \" ,ipd = EXCLUDED.ipd\"\n",
    "                            + \" ,opd = EXCLUDED.opd\"\n",
    "                            +\" ;\")\n",
    "    }\n",
    "\n",
    "    def close(errorOrNull:Throwable):Unit = {\n",
    "        connection.close\n",
    "    }\n",
    "}"
   ]
  },
  {
   "cell_type": "code",
   "execution_count": null,
   "metadata": {},
   "outputs": [],
   "source": [
    "\n",
    "val writer = new JDBCSink(\"jdbc:postgresql://127.0.0.1:5432/sss\", \"pphetra\", \"pphetra\")\n"
   ]
  },
  {
   "cell_type": "code",
   "execution_count": null,
   "metadata": {},
   "outputs": [],
   "source": [
    "\n",
    "import org.apache.spark.sql.streaming.Trigger\n",
    "val query = summary.writeStream\n",
    "    .foreach(writer)\n",
    "    .outputMode(\"complete\")\n",
    "    .trigger(Trigger.ProcessingTime(\"5 seconds\"))\n",
    "    .start()"
   ]
  },
  {
   "cell_type": "code",
   "execution_count": null,
   "metadata": {},
   "outputs": [],
   "source": [
    "query.stop()"
   ]
  },
  {
   "cell_type": "code",
   "execution_count": null,
   "metadata": {},
   "outputs": [],
   "source": []
  }
 ],
 "metadata": {
  "kernelspec": {
   "display_name": "Apache Toree - Scala",
   "language": "scala",
   "name": "apache_toree_scala"
  },
  "language_info": {
   "codemirror_mode": "text/x-scala",
   "file_extension": ".scala",
   "mimetype": "text/x-scala",
   "name": "scala",
   "pygments_lexer": "scala",
   "version": "2.11.12"
  }
 },
 "nbformat": 4,
 "nbformat_minor": 4
}
